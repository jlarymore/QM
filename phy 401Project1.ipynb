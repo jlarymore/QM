{
 "cells": [
  {
   "cell_type": "code",
   "execution_count": 2,
   "metadata": {
    "inputHidden": false,
    "outputHidden": false
   },
   "outputs": [],
   "source": [
    "%matplotlib inline\n",
    "from pylab import *\n",
    "from scipy.integrate import odeint"
   ]
  },
  {
   "cell_type": "code",
   "execution_count": 5,
   "metadata": {},
   "outputs": [],
   "source": []
  },
  {
   "cell_type": "markdown",
   "metadata": {},
   "source": [
    "# Quantum Mechanics Project 1\n",
    "\n",
    "Goal: Solve the energy eigenvalue equation \n",
    "$$ -\\frac{\\hbar^{2}}{2m}\\frac{d^{2}\\varphi_{E_{n}}}{dx^{2}}+V(x)\\varphi_{E_{n}}=E_{n}\\varphi_{E_{n}} $$\n",
    "\n",
    "We will use the **matrix method** by the following recipe: \n",
    "\n",
    "1. Identify basis functions $\\vert\\phi_{j}\\rangle\\dot{=}\\phi_{j}(x)$. \n",
    "  - We will choose the basis functions \n",
    "$$ \\phi_j(x) = \\sqrt{\\frac{2}{L}} \\sin\\left( \\frac{j\\pi x}{L} \\right) $$ *We are also restricting ourselves to the computational domain $0 \\le x \\le L$*.  \n",
    "\n",
    "2. Calculate matrix elements of Hamiltonian \n",
    "$$H_{ij} = \\int_{-\\infty}^{\\infty}\\phi_{i}^{\\ast}(x)\\left(-\\frac{\\hbar^{2}}{2m}\\frac{d^{2}\\phi_{j}}{dx^{2}}+V(x)\\phi_{j}(x)\\right)dx$$\n",
    " \n",
    "\n",
    "3. Find the eigenvalues $E_{n}$\n",
    "  and eigenvectors $\\vert E_{n}\\rangle$\n",
    "  of that matrix $H$!\n",
    "\n",
    "4. Then, since $\\vert E_{n}\\rangle=\\sum_{j}c_{jn}\\vert\\phi_{j}\\rangle$\n",
    " in the position representation we have $$\\vert E_{n}\\rangle \\dot{=}\\varphi_{E_{n}}(x)=\\sum_{j}c_{jn}\\phi_{j}(x)$$\n",
    " "
   ]
  },
  {
   "cell_type": "code",
   "execution_count": null,
   "metadata": {
    "inputHidden": false,
    "outputHidden": false
   },
   "outputs": [],
   "source": [
    "# Define constants here\n",
    "L = 1.0\n",
    "hbar = 1.0   # special units...\n",
    "m = 1.0      # special units...\n",
    "dx=.01"
   ]
  },
  {
   "cell_type": "code",
   "execution_count": null,
   "metadata": {
    "inputHidden": false,
    "outputHidden": false
   },
   "outputs": [],
   "source": [
    "# This cell defines the \"basis_phi\" function,\n",
    "#  corresponding to the chosen basis functions\n",
    "# NOTE: This function is only a \"good\" basis function \n",
    "#       for 0 <= x <= L\n",
    "def basis_phi(j, x):\n",
    "    return sqrt(2.0/L)*sin(j*pi*x/L)"
   ]
  },
  {
   "cell_type": "code",
   "execution_count": null,
   "metadata": {},
   "outputs": [],
   "source": [
    "def dphi(j,x):\n",
    "    dp=(basis_phi(j,x+dx)-basis_phi(j,x))/dx\n",
    "    return dp"
   ]
  },
  {
   "cell_type": "code",
   "execution_count": null,
   "metadata": {
    "inputHidden": false,
    "outputHidden": false
   },
   "outputs": [],
   "source": [
    "# This cell defines the \"d2phi\" function, \n",
    "#  which calculates the second derivative of the basis_phi\n",
    "#  function.  Needed later!\n",
    "def d2phi(j, x):\n",
    "    ddp=(dphi(j,x)-dphi(j,x+dx))/dx\n",
    "    return ddp #### TODO!"
   ]
  },
  {
   "cell_type": "code",
   "execution_count": null,
   "metadata": {
    "inputHidden": false,
    "outputHidden": false
   },
   "outputs": [],
   "source": [
    "# This cell defines the potential energy V(x)\n",
    "#  This will be \"customized\" for individual exercises.  \n",
    "def V(x):\n",
    "    return 0\n",
    "    # This then corresponds to the infinite square well."
   ]
  },
  {
   "cell_type": "markdown",
   "metadata": {},
   "source": [
    "In the cell below, you will want to program *carefully* the integrand that appears in the matrix elements, \n",
    "$$ \\mathcal{I} = \\phi_i^\\ast(x) \\left( -\\frac{\\hbar^2}{2m}\\frac{d^2\\phi_j}{dx^2} + V(x)\\phi_j(x) \\right) $$\n",
    "Then, you will be ready to use that function to later perform the integration needed for the matrix elements of $H$!"
   ]
  },
  {
   "cell_type": "code",
   "execution_count": null,
   "metadata": {
    "inputHidden": false,
    "outputHidden": false
   },
   "outputs": [],
   "source": [
    "# This cell defines the *integrand*, that is needed to later \n",
    "#   calculate the matrix elements of H.  \n",
    "def Integrand(x, i, j):\n",
    "    if abs(i-j)>0;\n",
    "        I=0\n",
    "    if i==j;\n",
    "        I= basis_phi(j, x)*(hbar**2/(-2*m))*d2phi(j, x)+V(x)+basis_phi(j, x)\n",
    "    return I #### TODO!"
   ]
  },
  {
   "cell_type": "code",
   "execution_count": null,
   "metadata": {
    "inputHidden": false,
    "outputHidden": false
   },
   "outputs": [],
   "source": [
    "# This cell defines the function, that will \n",
    "#   construct the matrix H.\n",
    "# Input parameter: jMax.  The maximum number of basis functions to include\n",
    "#  - For performing the integrals needed for the matrix elements,\n",
    "#   you may use ``quad`` or other integration functions you know.  \n",
    "#  - The indices i and j run from 1 to jmax for our mathematical formulation;\n",
    "#    remember that the Python array index counting goes from 0 to jmax-1!\n",
    "def calc_Hmatrix(jMax):\n",
    "    H = zeros((jmax, jmax))\n",
    "    # The index counting set up below is to \"help\" \n",
    "    #  adjust for the difference between the math indices \n",
    "    #  and the Python array indices\n",
    "    for i in range(1, jmax+1):\n",
    "        for j in range(1, jmax+1):\n",
    "            H[i-1,j-1] = odeint(Integrand(x, i, j),x)##### TODO!\n",
    "    return H"
   ]
  },
  {
   "cell_type": "markdown",
   "metadata": {
    "inputHidden": false,
    "outputHidden": false
   },
   "source": [
    "After the $H$ matrix is built with the ``calc_Hmatrix`` function, \n",
    "you can simply use the ``eig`` Python function to obtain the \n",
    "eigenvalues $E_n$ and eigenvectors \n",
    "$$ \\vert E_n\\rangle \\dot{=} \\left\\lbrack \\begin{array}{c} c_{1n} \\\\ c_{2n} \\\\ c_{3n} \\\\ \\ldots \\\\ c_{jMax,n}\\end{array} \\right\\rbrack $$\n",
    "With these $c_{jn}$ coefficients obtained from the eigenvectors of the $H$ matrix, you can build the eigenfunctions \n",
    "$$ \\varphi_{E_n}(x) = \\sum_{j=1}^{jMax} c_{jn} \\phi_j(x) $$"
   ]
  },
  {
   "cell_type": "code",
   "execution_count": null,
   "metadata": {},
   "outputs": [],
   "source": [
    "# This cell defines the function that \"builds\" the \n",
    "#  eigenfunctions, out of the just-found coefficients c_jn\n",
    "#  and the basis functions ``basis_phi``\n",
    "def eigenfunction(x, n, c_jn): \n",
    "    efunc = 0.0\n",
    "    jmax = len(c_jn)\n",
    "    for j in range(1, jmax + 1):\n",
    "        efunc += ### TODO!\n",
    "    return efunc"
   ]
  },
  {
   "cell_type": "markdown",
   "metadata": {},
   "source": [
    "### Exercises\n",
    "\n",
    "1. Complete the functions above, anywhere marked ``TODO``.  \n",
    "\n",
    "For the cases below, you should \n",
    " - List the first several allowed energies.  \n",
    " - Make an \"energy level diagram\" (for example, using the ``hlines`` Python function). \n",
    " - Plot the first several energy eigenfunctions $\\varphi_{E_n}(x)$ as functions of $x$.  \n",
    " - **Bonus challenge**: To explore the numerical aspect of this method, you can also prepare plots that demonstrate that as you increase ``jMax`` in the calculations, you *should* get increasingly accurate results.  \n",
    "\n",
    "2. Test the functions for $V(x) = 0$, which corresponds to the infinite square well.  You **know** what the eigenvalues and eigenfunctions should be.  Verify that this program gives you the correct results.  \n",
    "\n",
    "3. Now, find the energies and eigenfunctions for the finite square well, $$ V(x) = \\left\\lbrace\\begin{array}{cc} -V_0 && L/4\\le x\\le 3L/4  \\\\ 0 && x<L/4\\ \\mathrm{or}\\ x>3L/4\\end{array}\\right. $$  Perform this first for $V_0 = 1$, then for $V_0 = 100$.  How do the results compare?  How do they differ?  In both cases, verify that your solutions match the general characteristics discussed in class.  \n",
    "\n",
    "4. Now, find the energies and eigenfunctions for the harmonic oscillator potential, $$ V(x) = \\frac{1}{2}m\\omega^2 x(x-L) $$  You can let $m=1$ and $\\omega = 1$ for this calculation, but include those factors so that they can be easily changed and explored.  This is a potential that we will solve exactly later in the semester - look up the expected energies and eigenfunctions in the textbook, and make sure that they match the results of your calculation with this program.  "
   ]
  },
  {
   "cell_type": "markdown",
   "metadata": {},
   "source": []
  }
 ],
 "metadata": {
  "kernel_info": {
   "name": "python3"
  },
  "kernelspec": {
   "display_name": "Python 3",
   "language": "python",
   "name": "python3"
  },
  "language_info": {
   "codemirror_mode": {
    "name": "ipython",
    "version": 3
   },
   "file_extension": ".py",
   "mimetype": "text/x-python",
   "name": "python",
   "nbconvert_exporter": "python",
   "pygments_lexer": "ipython3",
   "version": "3.7.1"
  },
  "nteract": {
   "version": "0.12.3"
  }
 },
 "nbformat": 4,
 "nbformat_minor": 1
}
